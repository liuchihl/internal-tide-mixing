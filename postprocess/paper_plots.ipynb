{
 "cells": [
  {
   "cell_type": "markdown",
   "metadata": {},
   "source": [
    "This is the place that plots nice figures for papers"
   ]
  },
  {
   "cell_type": "code",
   "execution_count": 3,
   "metadata": {},
   "outputs": [],
   "source": [
    "# load necessary packages\n",
    "using Printf\n",
    "using CairoMakie\n",
    "using NCDatasets\n",
    "using Statistics\n",
    "using NaNStatistics\n",
    "using PyPlot\n"
   ]
  },
  {
   "cell_type": "markdown",
   "metadata": {},
   "source": [
    "(1) plot comparison between flat and tilt in terms of u, w, b, Bz"
   ]
  },
  {
   "cell_type": "code",
   "execution_count": null,
   "metadata": {},
   "outputs": [],
   "source": [
    "## plot b, and Bz\n",
    "slope = \"tilt\"\n",
    "timerange = \"40-80\"\n",
    "θ=0.0036\n",
    "file = string(\"output/\",slope,\"/TF_avg_\",timerange,\"bin.nc\")\n",
    "ds = Dataset(file,\"r\")\n",
    "t_40_80 = ds[\"t\"][:]/(2*pi/1.4e-4)\n",
    "z = ds[\"bin_center\"][:]\n",
    "Bz_avg = ds[\"Bz_avg\"][:,:]\n",
    "b_avg = ds[\"b_avg\"][:,:]\n",
    "u_avg = ds[\"u_avg\"][:,:]\n",
    "what_avg = ds[\"what_avg\"][:,:]\n",
    "\n",
    "b_avg_40_50 = dropdims(mean(b_avg[:,1:10],dims=2),dims=2)\n",
    "Bz_avg_40_50 = dropdims(mean(Bz_avg[:,1:10],dims=2),dims=2)\n",
    "u_avg_40_50 = dropdims(mean(u_avg[:,1:10],dims=2),dims=2)\n",
    "what_avg_40_50 = dropdims(mean(what_avg[:,1:10],dims=2),dims=2)\n",
    "b_avg_70_80 = dropdims(mean(b_avg[:,30:40],dims=2),dims=2)\n",
    "Bz_avg_70_80 = dropdims(mean(Bz_avg[:,30:40],dims=2),dims=2)\n",
    "u_avg_70_80 = dropdims(mean(u_avg[:,30:40],dims=2),dims=2)\n",
    "what_avg_70_80 = dropdims(mean(what_avg[:,30:40],dims=2),dims=2)\n",
    "close(ds)\n",
    "\n",
    "timerange = \"80-120\"\n",
    "file = string(\"output/\",slope,\"/TF_avg_\",timerange,\"bin.nc\")\n",
    "ds = Dataset(file,\"r\")\n",
    "t_80_120 = ds[\"t\"][:]/(2*pi/1.4e-4)\n",
    "z = ds[\"bin_center\"][:]\n",
    "Bz_avg = ds[\"Bz_avg\"][:,:]\n",
    "Bz_avg[1,:] .= 0\n",
    "b_avg = ds[\"b_avg\"][:,:]\n",
    "u_avg = ds[\"u_avg\"][:,:]\n",
    "what_avg = ds[\"what_avg\"][:,:]\n",
    "\n",
    "b_avg_110_120 = dropdims(mean(b_avg[:,30:40],dims=2),dims=2)\n",
    "Bz_avg_110_120 = dropdims(mean(Bz_avg[:,30:40],dims=2),dims=2)\n",
    "u_avg_110_120 = dropdims(mean(u_avg[:,30:40],dims=2),dims=2)\n",
    "what_avg_110_120 = dropdims(mean(what_avg[:,30:40],dims=2),dims=2)\n",
    "close(ds)"
   ]
  },
  {
   "cell_type": "code",
   "execution_count": null,
   "metadata": {},
   "outputs": [],
   "source": [
    "\n",
    "colors = [150 148 255;136 194 115;255 41 41]./255\n",
    "fig = Figure(resolution = (800, 650), figure_padding=(10, 40, 10, 10), size=(820,680),\n",
    "            fontsize=18)\n",
    "\n",
    "axis_kwargs_line_b = (ylabel = \"HAB (m)\",yminorticksvisible = true,limits = (1e4.*(0,maximum(b_avg_110_120)),(0, 500)) )   \n",
    "axis_kwargs_line_Bz = (yminorticksvisible = true,limits = (nothing,(0, 500)) ) \n",
    "axis_kwargs_ln = (ylabel = \"HAB (m)\", yminorticksvisible = true, limits = (nothing,(0, 500)) )   \n",
    "\n",
    "ax_b_ln = Axis(fig[1, 1]; title = \"10⁻⁴ x b (buoyancy perturbation)\", yminorticks = IntervalsBetween(5),\n",
    "                # xticks = ([0, 0.00005, 0.0001, 0.00015], [\"0\", \"-0.001\", \"-0.0005\", \"0\"]),\n",
    "                axis_kwargs_line_b...)\n",
    "ax_b_ln.titlesize = 18  # Set the title font size\n",
    "ax_b_ln.titlefont = \"regular\"  # Set the title font weight\n",
    "\n",
    "ax_Bz_ln = Axis(fig[1, 2]; title = \"10⁻⁶ x dB/dz (Total buoyancy gradient)\",yminorticks = IntervalsBetween(5), axis_kwargs_line_Bz...)\n",
    "ax_Bz_ln.titlesize = 18  # Set the title font size\n",
    "ax_Bz_ln.titlefont = \"regular\"  # Set the title font weight\n",
    "\n",
    "ax_u_ln = Axis(fig[2, 1]; title = \"Cross-slope velocity, û\", yminorticks = IntervalsBetween(5),axis_kwargs_ln...)\n",
    "ax_u_ln.titlesize = 18  # Set the title font size\n",
    "ax_u_ln.titlefont = \"regular\"  # Set the title font weight\n",
    "\n",
    "ax_what_ln = Axis(fig[2, 2]; \n",
    "                  title = \"True vertical velocity, w\", \n",
    "                  yminorticks = IntervalsBetween(5),\n",
    "                  xticks = ([-0.0015, -0.001, -0.0005, 0], [\"-0.0015\", \"-0.001\", \"-0.0005\", \"0\"]),\n",
    "                  axis_kwargs_ln..., ylabel=\"\")\n",
    "ax_what_ln.titlesize = 18  # Set the title font size\n",
    "ax_what_ln.titlefont = \"regular\"  # Set the title font weight\n",
    "                       \n",
    "lines!(ax_b_ln, 1e4*b_avg_40_50, z[:], linewidth=3, color=RGBf(150, 148, 255)/255)\n",
    "lines!(ax_b_ln, 1e4*b_avg_70_80, z[:], linewidth=3, color=RGBf(136, 194, 115)/255, linestyle=:solid)\n",
    "lines!(ax_b_ln, 1e4*b_avg_110_120, z[:], linewidth=3, color=RGBf(255, 41, 41)/255, linestyle=:solid)\n",
    "lines!(ax_Bz_ln, 1e6*Bz_avg_40_50, z[:], linewidth=3,color=RGBf(150, 148, 255)/255)\n",
    "lines!(ax_Bz_ln, 1e6*Bz_avg_70_80, z[:], linewidth=3,color=RGBf(136, 194, 115)/255)\n",
    "lines!(ax_Bz_ln, 1e6*Bz_avg_110_120, z[:], linewidth=3,color=RGBf(255, 41, 41)/255,linestyle=:solid)\n",
    "\n",
    "# plot velocities\n",
    "lines!(ax_u_ln, u_avg_40_50, z[:], linewidth=3,color=RGBf(150, 148, 255)/255)\n",
    "lines!(ax_u_ln, u_avg_70_80, z[:], linewidth=3,color=RGBf(136, 194, 115)/255)\n",
    "lines!(ax_u_ln, u_avg_110_120, z[:], linewidth=3,color=RGBf(255, 41, 41)/255,linestyle=:solid)\n",
    "lines!(ax_u_ln,[0,0],[0,z[end]],color=:black)\n",
    " \n",
    "ln1=lines!(ax_what_ln, what_avg_40_50, z[:], linewidth=3,color=RGBf(150, 148, 255)/255)\n",
    "ln2=lines!(ax_what_ln, what_avg_70_80, z[:], linewidth=3,color=RGBf(136, 194, 115)/255)\n",
    "ln3=lines!(ax_what_ln, what_avg_110_120, z[:], linewidth=3,color=RGBf(255, 41, 41)/255,linestyle=:solid)\n",
    "lines!(ax_what_ln,[0,0],[0,z[end]],color=:black)\n",
    "axislegend(ax_what_ln, [ln1,ln2,ln3],[\"40-50 tidal average\",\"70-80 tidal average\",\"110-120 tidal average\"], position = :lc)\n",
    "\n",
    "display(fig)\n",
    "# save(string(\"output/\",slope,\"/hab_plots_poster.png\"),fig)"
   ]
  }
 ],
 "metadata": {
  "kernelspec": {
   "display_name": "Julia 1.10.8",
   "language": "julia",
   "name": "julia-1.10"
  },
  "language_info": {
   "file_extension": ".jl",
   "mimetype": "application/julia",
   "name": "julia",
   "version": "1.10.8"
  }
 },
 "nbformat": 4,
 "nbformat_minor": 2
}
